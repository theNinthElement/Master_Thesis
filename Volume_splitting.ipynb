{
 "cells": [
  {
   "cell_type": "code",
   "execution_count": 1,
   "id": "certain-acrylic",
   "metadata": {},
   "outputs": [],
   "source": [
    "import numpy as np\n",
    "from dipy.io.image import load_nifti, save_nifti\n",
    "from dipy.io.gradients import read_bvals_bvecs\n",
    "from dipy.core.gradients import gradient_table\n",
    "import dipy.reconst.dti as dti\n",
    "import nibabel as nib\n",
    "import os\n",
    "from scipy.stats import entropy\n",
    "import subprocess"
   ]
  },
  {
   "cell_type": "code",
   "execution_count": 2,
   "id": "actual-paragraph",
   "metadata": {},
   "outputs": [
    {
     "name": "stdout",
     "output_type": "stream",
     "text": [
      "data.shape (64, 64, 36, 200)\n",
      "data.type  int16\n"
     ]
    }
   ],
   "source": [
    "fname = 'sub-01_func_sub-01_task-rest_bold.nii.gz' \n",
    "\n",
    "data, affine = load_nifti(fname)\n",
    "print('data.shape (%d, %d, %d, %d)' % data.shape)\n",
    "print('data.type ', data.dtype)\n",
    "\n",
    "#data_float = data.astype(np.float32)\n",
    "\n",
    "#dataMaxVal = int(max(data.flatten()))\n",
    "#dataMinVal = int(min(data.flatten()))"
   ]
  },
  {
   "cell_type": "code",
   "execution_count": 3,
   "id": "frozen-paste",
   "metadata": {},
   "outputs": [
    {
     "name": "stdout",
     "output_type": "stream",
     "text": [
      "<class 'nibabel.nifti1.Nifti1Header'> object, endian='<'\n",
      "sizeof_hdr      : 348\n",
      "data_type       : b''\n",
      "db_name         : b''\n",
      "extents         : 0\n",
      "session_error   : 0\n",
      "regular         : b'r'\n",
      "dim_info        : 0\n",
      "dim             : [  4  64  64  36 200   1   1   1]\n",
      "intent_p1       : 0.0\n",
      "intent_p2       : 0.0\n",
      "intent_p3       : 0.0\n",
      "intent_code     : none\n",
      "datatype        : int16\n",
      "bitpix          : 16\n",
      "slice_start     : 0\n",
      "pixdim          : [-1.       3.59375  3.59375  3.78     3.56     0.       0.       0.     ]\n",
      "vox_offset      : 0.0\n",
      "scl_slope       : nan\n",
      "scl_inter       : nan\n",
      "slice_end       : 0\n",
      "slice_code      : unknown\n",
      "xyzt_units      : 10\n",
      "cal_max         : 0.0\n",
      "cal_min         : 0.0\n",
      "slice_duration  : 0.0\n",
      "toffset         : 0.0\n",
      "glmax           : 0\n",
      "glmin           : 0\n",
      "descrip         : b'FSL5.0'\n",
      "aux_file        : b''\n",
      "qform_code      : aligned\n",
      "sform_code      : aligned\n",
      "quatern_b       : -0.038154073\n",
      "quatern_c       : 0.998028\n",
      "quatern_d       : 0.04250012\n",
      "qoffset_x       : 125.84934\n",
      "qoffset_y       : -114.60879\n",
      "qoffset_z       : -56.303707\n",
      "srow_x          : [ -3.5784125   -0.2816466   -0.18422806 125.84934   ]\n",
      "srow_y          : [  -0.2657367     3.5703044    -0.32817888 -114.60879   ]\n",
      "srow_z          : [ -0.19846058   0.29772574   3.7612176  -56.303703  ]\n",
      "intent_name     : b''\n",
      "magic           : b'n+1'\n"
     ]
    }
   ],
   "source": [
    "n1_data = nib.load(fname)\n",
    "data_header = n1_data.header\n",
    "print(data_header)"
   ]
  },
  {
   "cell_type": "code",
   "execution_count": 9,
   "id": "political-vehicle",
   "metadata": {},
   "outputs": [
    {
     "name": "stdout",
     "output_type": "stream",
     "text": [
      "(64, 64, 36)\n",
      "(64, 64, 36)\n",
      "(64, 64, 36)\n",
      "(64, 64, 36)\n",
      "(64, 64, 36)\n",
      "(64, 64, 36)\n",
      "(64, 64, 36)\n",
      "(64, 64, 36)\n",
      "(64, 64, 36)\n",
      "(64, 64, 36)\n"
     ]
    }
   ],
   "source": [
    "# for i in range(10):\n",
    "#     sub_data = data[...,i]\n",
    "#     print(sub_data.shape)\n",
    "#     subVol = nib.Nifti1Image(sub_data, affine=n1_data.affine)\n",
    "#     nameStr = '/splitted/sub_vol' + str(i) + '.nii.gz'\n",
    "#     nib.nifti1.save(subVol, os.getcwd() + nameStr)"
   ]
  },
  {
   "cell_type": "code",
   "execution_count": 4,
   "id": "390c823a",
   "metadata": {},
   "outputs": [
    {
     "name": "stdout",
     "output_type": "stream",
     "text": [
      "(64, 64, 36, 20)\n"
     ]
    }
   ],
   "source": [
    "sub_data = np.split(data, 10, axis = 3)\n",
    "print(sub_data[1].shape)"
   ]
  },
  {
   "cell_type": "code",
   "execution_count": 5,
   "id": "frequent-craft",
   "metadata": {},
   "outputs": [
    {
     "name": "stdout",
     "output_type": "stream",
     "text": [
      "(64, 64, 36, 10)\n"
     ]
    }
   ],
   "source": [
    "sub_sub_data = np.split(sub_data[0], 2, axis = 3)\n",
    "print(sub_sub_data[0].shape)"
   ]
  },
  {
   "cell_type": "code",
   "execution_count": 6,
   "id": "fe49f13e",
   "metadata": {},
   "outputs": [],
   "source": [
    "for i in range(2):\n",
    "    subVol = nib.Nifti1Image(sub_sub_data[i], affine=n1_data.affine)\n",
    "    nameStr = '/10_Volume_splitted/sub_vol' + str(i) + '.nii.gz'\n",
    "    nib.nifti1.save(subVol, os.getcwd() + nameStr)"
   ]
  },
  {
   "cell_type": "code",
   "execution_count": null,
   "id": "616e4d47",
   "metadata": {},
   "outputs": [],
   "source": []
  }
 ],
 "metadata": {
  "kernelspec": {
   "display_name": "Python 3",
   "language": "python",
   "name": "python3"
  },
  "language_info": {
   "codemirror_mode": {
    "name": "ipython",
    "version": 3
   },
   "file_extension": ".py",
   "mimetype": "text/x-python",
   "name": "python",
   "nbconvert_exporter": "python",
   "pygments_lexer": "ipython3",
   "version": "3.7.6"
  }
 },
 "nbformat": 4,
 "nbformat_minor": 5
}
